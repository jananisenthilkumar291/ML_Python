{
 "cells": [
  {
   "cell_type": "markdown",
   "metadata": {},
   "source": [
    "### Simple linear regression"
   ]
  },
  {
   "cell_type": "code",
   "execution_count": 1,
   "metadata": {},
   "outputs": [],
   "source": [
    "import numpy as np\n",
    "import pandas as pd"
   ]
  },
  {
   "cell_type": "code",
   "execution_count": 284,
   "metadata": {},
   "outputs": [],
   "source": [
    "d = {'no_of_rooms' : [1,2,3,4,5],'cost' : [500,600,700,800,900]}\n",
    "df = pd.DataFrame(d)\n",
    "\n",
    "## Data set\n",
    "\n",
    "x = df[['no_of_rooms']]\n",
    "y = df['cost']"
   ]
  },
  {
   "cell_type": "markdown",
   "metadata": {},
   "source": [
    "### scikit-learn or sklearn\n",
    "\n",
    "* sklearn is a python library used for Machine Learning.\n",
    "* It provides Data Sets , Machine Learning Algorithm , Evaluation Metrics. "
   ]
  },
  {
   "cell_type": "code",
   "execution_count": 285,
   "metadata": {},
   "outputs": [
    {
     "name": "stdout",
     "output_type": "stream",
     "text": [
      "[1100. 1200. 1300. 1400. 1500.]\n",
      "[1100.]\n",
      "100.0\n",
      "-17.0\n"
     ]
    }
   ],
   "source": [
    "from sklearn.linear_model import LinearRegression\n",
    "from sklearn.metrics import r2_score\n",
    "\n",
    "## Model\n",
    "\n",
    "lr = LinearRegression()\n",
    "\n",
    "## Fiting data into the model\n",
    "\n",
    "lr.fit(x,y)\n",
    "\n",
    "## Predicting for concrete input\n",
    "\n",
    "inp = np.array([7,8,9,10,11]).reshape(-1,1) ## reshape(-1,1) converts 1d array to 2d array\n",
    "outp = lr.predict(inp)\n",
    "print(outp)\n",
    "print(lr.predict([[7]]))\n",
    "\n",
    "## Finding Accuracy ..\n",
    "\n",
    "print(lr.score(x,y)*100)\n",
    "\n",
    "# Finding accuracy between actual values and predicted values\n",
    "\n",
    "print(r2_score(outp,y))"
   ]
  },
  {
   "cell_type": "markdown",
   "metadata": {},
   "source": [
    "## Multivariate Linear Regression"
   ]
  },
  {
   "cell_type": "code",
   "execution_count": 286,
   "metadata": {},
   "outputs": [],
   "source": [
    "d = {'rooms' : [1,2,3,4,5],'area': [200,250,300,350,400],'cost' : [500,600,700,800,900]}\n",
    "df = pd.DataFrame(d)\n",
    "x = df.drop('cost',axis = 1)\n",
    "y = df['cost']"
   ]
  },
  {
   "cell_type": "code",
   "execution_count": 287,
   "metadata": {},
   "outputs": [
    {
     "name": "stdout",
     "output_type": "stream",
     "text": [
      "[1000.03998401 1099.96001599 1299.96001599  900.15993603  600.11995202]\n",
      "Score =  100.0\n",
      "Actual vs Predicted Score =  100.0\n"
     ]
    }
   ],
   "source": [
    "from sklearn.linear_model import LinearRegression\n",
    "from sklearn.metrics import r2_score\n",
    "lr = LinearRegression()\n",
    "lr.fit(x,y)\n",
    "inp = np.array([[7,450],[6,500],[8,600],[9,400],[5,250]])\n",
    "outp = lr.predict(inp)\n",
    "print(outp)\n",
    "print(\"Score = \",lr.score(x,y)*100)\n",
    "print(\"Actual vs Predicted Score = \",r2_score(lr.predict(x),y)*100)"
   ]
  },
  {
   "cell_type": "markdown",
   "metadata": {},
   "source": [
    "## Apply linear regression model onto Boston dataset\n",
    "\n",
    "Boston data set consists of details about housing prices"
   ]
  },
  {
   "cell_type": "code",
   "execution_count": 288,
   "metadata": {},
   "outputs": [
    {
     "name": "stdout",
     "output_type": "stream",
     "text": [
      "--------Simple Linear Regression (With One Feature)------------\n",
      "Input =  [[46.7]]\n",
      "Predicts..  [25.22697868]\n",
      "Score =  14.209474407780442\n",
      "Actual vs Predicted =  -5.037557979290545\n",
      "\n",
      "\n",
      "-------------- Multivariate Linear Regression -----------\n",
      "Input =  [[1.4455e-01 1.2500e+01 7.8700e+00 0.0000e+00 5.2400e-01 6.1720e+00\n",
      "  9.6100e+01 5.9505e+00 5.0000e+00 3.1100e+02 1.5200e+01 3.9690e+02\n",
      "  1.9150e+01]]\n",
      "Predicts.. [19.53598843]\n",
      "Score =  74.06426641094095\n",
      "Analysis vs prediction =  64.98212316698574\n"
     ]
    }
   ],
   "source": [
    "from sklearn.datasets import load_boston\n",
    "from sklearn.linear_model import LinearRegression\n",
    "from sklearn.metrics import r2_score\n",
    "import pandas as pd\n",
    "import numpy as np\n",
    "lr = LinearRegression()\n",
    "boston = load_boston()\n",
    "# Reading data from boston  dataset\n",
    "data1 = boston.data\n",
    "cols = boston.feature_names\n",
    "boston_data_df = pd.DataFrame(data1,columns = cols)\n",
    "boston_data_df['target'] = boston.target\n",
    "\n",
    "\n",
    "print(\"--------Simple Linear Regression (With One Feature)------------\")\n",
    "x = boston_data_df[['AGE']]\n",
    "y = boston_data_df['target']\n",
    "lr.fit(x,y)\n",
    "inp = np.array([[46.7]])\n",
    "print(\"Input = \",inp)\n",
    "print(\"Predicts.. \",lr.predict(inp))\n",
    "print(\"Score = \" , lr.score(x,y)*100)\n",
    "print(\"Actual vs Predicted = \",r2_score(lr.predict(x),y))\n",
    "\n",
    "\n",
    "print(\"\\n\\n-------------- Multivariate Linear Regression -----------\")\n",
    "x = boston_data_df.drop('target',axis = 1)\n",
    "y = boston_data_df['target']\n",
    "lr.fit(x,y)\n",
    "inp = np.array(x[7:8])\n",
    "print(\"Input = \",inp)\n",
    "outp = lr.predict(inp)\n",
    "print(\"Predicts..\",outp)\n",
    "print(\"Score = \",lr.score(x,y)*100)\n",
    "print(\"Analysis vs prediction = \" , r2_score(lr.predict(x),y)*100)"
   ]
  },
  {
   "cell_type": "markdown",
   "metadata": {},
   "source": [
    "### Correlation\n",
    "\n",
    "Correlation is a relation between two Features\n",
    "\n",
    "* value :\n",
    "    *  0 - There is no correlation between two features\n",
    "    *  1 - Correlation is positive\n",
    "    * -1 - Correlation is negative"
   ]
  },
  {
   "cell_type": "code",
   "execution_count": 289,
   "metadata": {},
   "outputs": [
    {
     "data": {
      "text/plain": [
       "0.6398856030562653"
      ]
     },
     "execution_count": 289,
     "metadata": {},
     "output_type": "execute_result"
    }
   ],
   "source": [
    "# Finding correlation\n",
    "# Choosing Features ...\n",
    "\n",
    "#boston_data_df.corr()\n",
    "## Find the columns with higher correlation , Lower Correlation.\n",
    "\n",
    "\n",
    "x = boston_data_df[['RM','ZN','LSTAT']]\n",
    "y = boston_data_df['target']\n",
    "lr.fit(x,y)\n",
    "lr.score(x,y)\n"
   ]
  },
  {
   "cell_type": "markdown",
   "metadata": {},
   "source": [
    "## diabetes dataset"
   ]
  },
  {
   "cell_type": "code",
   "execution_count": 290,
   "metadata": {},
   "outputs": [
    {
     "name": "stdout",
     "output_type": "stream",
     "text": [
      "[73.89417947]\n",
      "Score =  0.5177494254132934\n",
      "Actual vs predicted =  0.06856376672605702\n"
     ]
    }
   ],
   "source": [
    "from sklearn.datasets import load_diabetes\n",
    "diabetes = load_diabetes()\n",
    "diabetes.keys()\n",
    "cols = diabetes.feature_names\n",
    "diabetes_data = diabetes.data\n",
    "df = pd.DataFrame(diabetes_data,columns = cols)\n",
    "df['target'] = diabetes.target\n",
    "\n",
    "x = df.drop('target',axis = 1)\n",
    "y = df['target']\n",
    "lr.fit(x,y)\n",
    "inp = np.array(x[6:7])\n",
    "outp = lr.predict(inp)\n",
    "print(outp)\n",
    "print(\"Score = \",lr.score(x,y))\n",
    "print(\"Actual vs predicted = \",r2_score(lr.predict(x),y))"
   ]
  },
  {
   "cell_type": "markdown",
   "metadata": {},
   "source": [
    "## Splitting data into training and testing sets\n",
    "\n",
    "train_test_split()"
   ]
  },
  {
   "cell_type": "code",
   "execution_count": 291,
   "metadata": {},
   "outputs": [
    {
     "name": "stdout",
     "output_type": "stream",
     "text": [
      "Score =  92.170450428608\n",
      "Score =  94.42318571467433\n"
     ]
    },
    {
     "data": {
      "text/plain": [
       "array([ 1.24069097, -0.04537609,  2.24501083,  1.35143666,  1.29775083,\n",
       "        0.01024241,  1.05031173,  1.82525399,  1.37084413,  1.06699186,\n",
       "        1.70363485, -0.08712067, -0.165166  , -0.07724353, -0.03380619,\n",
       "        1.40167699,  2.00651252,  1.04725931,  1.28368327,  1.97600474,\n",
       "        0.01782354,  1.59952875,  0.079732  ,  1.92307532,  1.8621986 ,\n",
       "        1.8790815 ,  1.80251247,  2.04196713,  0.01873817,  0.01291496,\n",
       "       -0.15365607, -0.08046738,  1.18506728, -0.00461982, -0.02934265,\n",
       "        1.68665136,  1.29088786, -0.07995434, -0.09076782, -0.16795331,\n",
       "        1.75520461,  1.37514144,  1.3174234 , -0.07193336, -0.1131512 ])"
      ]
     },
     "execution_count": 291,
     "metadata": {},
     "output_type": "execute_result"
    }
   ],
   "source": [
    "from sklearn.datasets import load_iris\n",
    "from sklearn.model_selection import train_test_split\n",
    "iris = load_iris()\n",
    "iris_data = iris.data\n",
    "iris_df = pd.DataFrame(iris_data,columns = iris.feature_names)\n",
    "iris_df['target'] = iris.target\n",
    "\n",
    "#iris_df.head()\n",
    "iris_x = iris_df.drop('target',axis = 1)\n",
    "iris_y = iris_df['target']\n",
    "\n",
    "x_train,x_test,y_train,y_test = train_test_split(iris_x,iris_y,test_size = 0.3,random_state = 42)\n",
    "lr.fit(x_train,y_train)\n",
    "print(\"Score = \",lr.score(x_train,y_train)*100)\n",
    "print(\"Score = \",lr.score(x_test,y_test)*100)\n",
    "outp = lr.predict(x_test)\n",
    "#print(\"Actual vs predicted = \",r2_score(outp , y_test))\n",
    "outp"
   ]
  },
  {
   "cell_type": "markdown",
   "metadata": {},
   "source": [
    "### Checking for NULL values"
   ]
  },
  {
   "cell_type": "code",
   "execution_count": 292,
   "metadata": {},
   "outputs": [
    {
     "name": "stdout",
     "output_type": "stream",
     "text": [
      "     sepal length (cm)  sepal width (cm)  petal length (cm)  petal width (cm)  \\\n",
      "0                False             False              False             False   \n",
      "1                False             False              False             False   \n",
      "2                False             False              False             False   \n",
      "3                False             False              False             False   \n",
      "4                False             False              False             False   \n",
      "5                False             False              False             False   \n",
      "6                False             False              False             False   \n",
      "7                False             False              False             False   \n",
      "8                False             False              False             False   \n",
      "9                False             False              False             False   \n",
      "10               False             False              False             False   \n",
      "11               False             False              False             False   \n",
      "12               False             False              False             False   \n",
      "13               False             False              False             False   \n",
      "14               False             False              False             False   \n",
      "15               False             False              False             False   \n",
      "16               False             False              False             False   \n",
      "17               False             False              False             False   \n",
      "18               False             False              False             False   \n",
      "19               False             False              False             False   \n",
      "20               False             False              False             False   \n",
      "21               False             False              False             False   \n",
      "22               False             False              False             False   \n",
      "23               False             False              False             False   \n",
      "24               False             False              False             False   \n",
      "25               False             False              False             False   \n",
      "26               False             False              False             False   \n",
      "27               False             False              False             False   \n",
      "28               False             False              False             False   \n",
      "29               False             False              False             False   \n",
      "..                 ...               ...                ...               ...   \n",
      "120              False             False              False             False   \n",
      "121              False             False              False             False   \n",
      "122              False             False              False             False   \n",
      "123              False             False              False             False   \n",
      "124              False             False              False             False   \n",
      "125              False             False              False             False   \n",
      "126              False             False              False             False   \n",
      "127              False             False              False             False   \n",
      "128              False             False              False             False   \n",
      "129              False             False              False             False   \n",
      "130              False             False              False             False   \n",
      "131              False             False              False             False   \n",
      "132              False             False              False             False   \n",
      "133              False             False              False             False   \n",
      "134              False             False              False             False   \n",
      "135              False             False              False             False   \n",
      "136              False             False              False             False   \n",
      "137              False             False              False             False   \n",
      "138              False             False              False             False   \n",
      "139              False             False              False             False   \n",
      "140              False             False              False             False   \n",
      "141              False             False              False             False   \n",
      "142              False             False              False             False   \n",
      "143              False             False              False             False   \n",
      "144              False             False              False             False   \n",
      "145              False             False              False             False   \n",
      "146              False             False              False             False   \n",
      "147              False             False              False             False   \n",
      "148              False             False              False             False   \n",
      "149              False             False              False             False   \n",
      "\n",
      "     target  \n",
      "0     False  \n",
      "1     False  \n",
      "2     False  \n",
      "3     False  \n",
      "4     False  \n",
      "5     False  \n",
      "6     False  \n",
      "7     False  \n",
      "8     False  \n",
      "9     False  \n",
      "10    False  \n",
      "11    False  \n",
      "12    False  \n",
      "13    False  \n",
      "14    False  \n",
      "15    False  \n",
      "16    False  \n",
      "17    False  \n",
      "18    False  \n",
      "19    False  \n",
      "20    False  \n",
      "21    False  \n",
      "22    False  \n",
      "23    False  \n",
      "24    False  \n",
      "25    False  \n",
      "26    False  \n",
      "27    False  \n",
      "28    False  \n",
      "29    False  \n",
      "..      ...  \n",
      "120   False  \n",
      "121   False  \n",
      "122   False  \n",
      "123   False  \n",
      "124   False  \n",
      "125   False  \n",
      "126   False  \n",
      "127   False  \n",
      "128   False  \n",
      "129   False  \n",
      "130   False  \n",
      "131   False  \n",
      "132   False  \n",
      "133   False  \n",
      "134   False  \n",
      "135   False  \n",
      "136   False  \n",
      "137   False  \n",
      "138   False  \n",
      "139   False  \n",
      "140   False  \n",
      "141   False  \n",
      "142   False  \n",
      "143   False  \n",
      "144   False  \n",
      "145   False  \n",
      "146   False  \n",
      "147   False  \n",
      "148   False  \n",
      "149   False  \n",
      "\n",
      "[150 rows x 5 columns]\n"
     ]
    },
    {
     "data": {
      "text/plain": [
       "sepal length (cm)    876.5\n",
       "sepal width (cm)     458.6\n",
       "petal length (cm)    563.7\n",
       "petal width (cm)     179.9\n",
       "target               150.0\n",
       "dtype: float64"
      ]
     },
     "execution_count": 292,
     "metadata": {},
     "output_type": "execute_result"
    }
   ],
   "source": [
    "print(iris_df.isnull())\n",
    "iris_df.sum()"
   ]
  },
  {
   "cell_type": "markdown",
   "metadata": {},
   "source": [
    "### Random rows from data frame"
   ]
  },
  {
   "cell_type": "code",
   "execution_count": 293,
   "metadata": {},
   "outputs": [
    {
     "data": {
      "text/html": [
       "<div>\n",
       "<style scoped>\n",
       "    .dataframe tbody tr th:only-of-type {\n",
       "        vertical-align: middle;\n",
       "    }\n",
       "\n",
       "    .dataframe tbody tr th {\n",
       "        vertical-align: top;\n",
       "    }\n",
       "\n",
       "    .dataframe thead th {\n",
       "        text-align: right;\n",
       "    }\n",
       "</style>\n",
       "<table border=\"1\" class=\"dataframe\">\n",
       "  <thead>\n",
       "    <tr style=\"text-align: right;\">\n",
       "      <th></th>\n",
       "      <th>sepal length (cm)</th>\n",
       "      <th>sepal width (cm)</th>\n",
       "      <th>petal length (cm)</th>\n",
       "      <th>petal width (cm)</th>\n",
       "      <th>target</th>\n",
       "    </tr>\n",
       "  </thead>\n",
       "  <tbody>\n",
       "    <tr>\n",
       "      <th>123</th>\n",
       "      <td>6.3</td>\n",
       "      <td>2.7</td>\n",
       "      <td>4.9</td>\n",
       "      <td>1.8</td>\n",
       "      <td>2</td>\n",
       "    </tr>\n",
       "    <tr>\n",
       "      <th>48</th>\n",
       "      <td>5.3</td>\n",
       "      <td>3.7</td>\n",
       "      <td>1.5</td>\n",
       "      <td>0.2</td>\n",
       "      <td>0</td>\n",
       "    </tr>\n",
       "    <tr>\n",
       "      <th>47</th>\n",
       "      <td>4.6</td>\n",
       "      <td>3.2</td>\n",
       "      <td>1.4</td>\n",
       "      <td>0.2</td>\n",
       "      <td>0</td>\n",
       "    </tr>\n",
       "  </tbody>\n",
       "</table>\n",
       "</div>"
      ],
      "text/plain": [
       "     sepal length (cm)  sepal width (cm)  petal length (cm)  petal width (cm)  \\\n",
       "123                6.3               2.7                4.9               1.8   \n",
       "48                 5.3               3.7                1.5               0.2   \n",
       "47                 4.6               3.2                1.4               0.2   \n",
       "\n",
       "     target  \n",
       "123       2  \n",
       "48        0  \n",
       "47        0  "
      ]
     },
     "execution_count": 293,
     "metadata": {},
     "output_type": "execute_result"
    }
   ],
   "source": [
    "iris_df.sample(3)"
   ]
  },
  {
   "cell_type": "markdown",
   "metadata": {},
   "source": [
    "### Information about data frame"
   ]
  },
  {
   "cell_type": "code",
   "execution_count": 294,
   "metadata": {},
   "outputs": [
    {
     "name": "stdout",
     "output_type": "stream",
     "text": [
      "<class 'pandas.core.frame.DataFrame'>\n",
      "RangeIndex: 150 entries, 0 to 149\n",
      "Data columns (total 5 columns):\n",
      "sepal length (cm)    150 non-null float64\n",
      "sepal width (cm)     150 non-null float64\n",
      "petal length (cm)    150 non-null float64\n",
      "petal width (cm)     150 non-null float64\n",
      "target               150 non-null int32\n",
      "dtypes: float64(4), int32(1)\n",
      "memory usage: 5.4 KB\n"
     ]
    }
   ],
   "source": [
    "iris_df.info()"
   ]
  },
  {
   "cell_type": "markdown",
   "metadata": {},
   "source": [
    "### Description of data frame"
   ]
  },
  {
   "cell_type": "code",
   "execution_count": 295,
   "metadata": {},
   "outputs": [
    {
     "data": {
      "text/html": [
       "<div>\n",
       "<style scoped>\n",
       "    .dataframe tbody tr th:only-of-type {\n",
       "        vertical-align: middle;\n",
       "    }\n",
       "\n",
       "    .dataframe tbody tr th {\n",
       "        vertical-align: top;\n",
       "    }\n",
       "\n",
       "    .dataframe thead th {\n",
       "        text-align: right;\n",
       "    }\n",
       "</style>\n",
       "<table border=\"1\" class=\"dataframe\">\n",
       "  <thead>\n",
       "    <tr style=\"text-align: right;\">\n",
       "      <th></th>\n",
       "      <th>sepal length (cm)</th>\n",
       "      <th>sepal width (cm)</th>\n",
       "      <th>petal length (cm)</th>\n",
       "      <th>petal width (cm)</th>\n",
       "      <th>target</th>\n",
       "    </tr>\n",
       "  </thead>\n",
       "  <tbody>\n",
       "    <tr>\n",
       "      <th>count</th>\n",
       "      <td>150.000000</td>\n",
       "      <td>150.000000</td>\n",
       "      <td>150.000000</td>\n",
       "      <td>150.000000</td>\n",
       "      <td>150.000000</td>\n",
       "    </tr>\n",
       "    <tr>\n",
       "      <th>mean</th>\n",
       "      <td>5.843333</td>\n",
       "      <td>3.057333</td>\n",
       "      <td>3.758000</td>\n",
       "      <td>1.199333</td>\n",
       "      <td>1.000000</td>\n",
       "    </tr>\n",
       "    <tr>\n",
       "      <th>std</th>\n",
       "      <td>0.828066</td>\n",
       "      <td>0.435866</td>\n",
       "      <td>1.765298</td>\n",
       "      <td>0.762238</td>\n",
       "      <td>0.819232</td>\n",
       "    </tr>\n",
       "    <tr>\n",
       "      <th>min</th>\n",
       "      <td>4.300000</td>\n",
       "      <td>2.000000</td>\n",
       "      <td>1.000000</td>\n",
       "      <td>0.100000</td>\n",
       "      <td>0.000000</td>\n",
       "    </tr>\n",
       "    <tr>\n",
       "      <th>25%</th>\n",
       "      <td>5.100000</td>\n",
       "      <td>2.800000</td>\n",
       "      <td>1.600000</td>\n",
       "      <td>0.300000</td>\n",
       "      <td>0.000000</td>\n",
       "    </tr>\n",
       "    <tr>\n",
       "      <th>50%</th>\n",
       "      <td>5.800000</td>\n",
       "      <td>3.000000</td>\n",
       "      <td>4.350000</td>\n",
       "      <td>1.300000</td>\n",
       "      <td>1.000000</td>\n",
       "    </tr>\n",
       "    <tr>\n",
       "      <th>75%</th>\n",
       "      <td>6.400000</td>\n",
       "      <td>3.300000</td>\n",
       "      <td>5.100000</td>\n",
       "      <td>1.800000</td>\n",
       "      <td>2.000000</td>\n",
       "    </tr>\n",
       "    <tr>\n",
       "      <th>max</th>\n",
       "      <td>7.900000</td>\n",
       "      <td>4.400000</td>\n",
       "      <td>6.900000</td>\n",
       "      <td>2.500000</td>\n",
       "      <td>2.000000</td>\n",
       "    </tr>\n",
       "  </tbody>\n",
       "</table>\n",
       "</div>"
      ],
      "text/plain": [
       "       sepal length (cm)  sepal width (cm)  petal length (cm)  \\\n",
       "count         150.000000        150.000000         150.000000   \n",
       "mean            5.843333          3.057333           3.758000   \n",
       "std             0.828066          0.435866           1.765298   \n",
       "min             4.300000          2.000000           1.000000   \n",
       "25%             5.100000          2.800000           1.600000   \n",
       "50%             5.800000          3.000000           4.350000   \n",
       "75%             6.400000          3.300000           5.100000   \n",
       "max             7.900000          4.400000           6.900000   \n",
       "\n",
       "       petal width (cm)      target  \n",
       "count        150.000000  150.000000  \n",
       "mean           1.199333    1.000000  \n",
       "std            0.762238    0.819232  \n",
       "min            0.100000    0.000000  \n",
       "25%            0.300000    0.000000  \n",
       "50%            1.300000    1.000000  \n",
       "75%            1.800000    2.000000  \n",
       "max            2.500000    2.000000  "
      ]
     },
     "execution_count": 295,
     "metadata": {},
     "output_type": "execute_result"
    }
   ],
   "source": [
    "iris_df.describe()"
   ]
  },
  {
   "cell_type": "markdown",
   "metadata": {},
   "source": [
    "## Polynomial Regression\n",
    "\n",
    "Used for non-linear data set"
   ]
  },
  {
   "cell_type": "code",
   "execution_count": 296,
   "metadata": {},
   "outputs": [
    {
     "data": {
      "text/plain": [
       "98.48333354975264"
      ]
     },
     "execution_count": 296,
     "metadata": {},
     "output_type": "execute_result"
    }
   ],
   "source": [
    "d={'emp_exp':[1,2,3,4,5,6,7,8,9,10],'emp_sal':[1100,1200,1400,1600,2200,2400,2600,3000,3200,3600]}\n",
    "df=pd.DataFrame(d)\n",
    "x = df[['emp_exp']]\n",
    "y = df['emp_sal']\n",
    "lr.fit(x,y)\n",
    "lr.score(x,y)*100"
   ]
  },
  {
   "cell_type": "code",
   "execution_count": 297,
   "metadata": {},
   "outputs": [
    {
     "data": {
      "text/plain": [
       "0.9936872155126689"
      ]
     },
     "execution_count": 297,
     "metadata": {},
     "output_type": "execute_result"
    }
   ],
   "source": [
    "from sklearn.preprocessing import PolynomialFeatures\n",
    "pf = PolynomialFeatures(degree = 4)\n",
    "pf_x = pf.fit_transform(x)\n",
    "lr.fit(pf_x,y)\n",
    "lr.score(pf_x,y)"
   ]
  },
  {
   "cell_type": "markdown",
   "metadata": {},
   "source": [
    "### Data Visualization using matplotlib "
   ]
  },
  {
   "cell_type": "code",
   "execution_count": 298,
   "metadata": {},
   "outputs": [
    {
     "data": {
      "image/png": "[encoded data removed]",
      "text/plain": [
       "<Figure size 432x288 with 1 Axes>"
      ]
     },
     "metadata": {
      "needs_background": "light"
     },
     "output_type": "display_data"
    }
   ],
   "source": [
    "import matplotlib.pyplot as plt\n",
    "plt.scatter(x,y,color = 'green')\n",
    "plt.plot(x,lr.predict(pf_x),color=\"blue\")\n",
    "plt.show()"
   ]
  },
  {
   "cell_type": "code",
   "execution_count": null,
   "metadata": {},
   "outputs": [],
   "source": []
  }
 ],
 "metadata": {
  "kernelspec": {
   "display_name": "Python 3",
   "language": "python",
   "name": "python3"
  },
  "language_info": {
   "codemirror_mode": {
    "name": "ipython",
    "version": 3
   },
   "file_extension": ".py",
   "mimetype": "text/x-python",
   "name": "python",
   "nbconvert_exporter": "python",
   "pygments_lexer": "ipython3",
   "version": "3.7.3"
  }
 },
 "nbformat": 4,
 "nbformat_minor": 2
}
