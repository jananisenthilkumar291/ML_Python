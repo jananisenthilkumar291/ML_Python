{
 "cells": [
  {
   "cell_type": "markdown",
   "metadata": {},
   "source": [
    "## Numpy\n",
    "\n",
    "numerical python\n",
    "It is a python library to work on arrays , matrice , large-scientific calculation\n",
    "### Numpy\n",
    "__________________________\n",
    "* provides extension package in python to work on multi dimentional array\n",
    "* It is very efficient compared to list"
   ]
  },
  {
   "cell_type": "markdown",
   "metadata": {},
   "source": [
    "# 1-D array"
   ]
  },
  {
   "cell_type": "code",
   "execution_count": 16,
   "metadata": {},
   "outputs": [
    {
     "name": "stdout",
     "output_type": "stream",
     "text": [
      "['1' '2.90001' 'string' '2' '1' '4']\n",
      "[0 1 2 3 4 5 6 7 8 9]\n",
      "[10 11 12 13 14 15 16 17 18 19 20 21 22 23 24 25 26 27 28 29 30 31 32 33\n",
      " 34 35 36 37 38 39 40 41 42 43 44 45 46 47 48 49] <class 'numpy.ndarray'>\n",
      "[10 12 14 16 18 20 22 24 26 28 30 32 34 36 38 40 42 44 46 48] \n",
      " 1\n"
     ]
    }
   ],
   "source": [
    "import numpy as np\n",
    "l = np.array([1,2.90001,\"string\",2,1,4])\n",
    "print(l)\n",
    "ll = np.arange(10)\n",
    "print(ll)\n",
    "lll = np.arange(10,50)\n",
    "print(lll , type(lll))\n",
    "i = np.arange(10,50,2)\n",
    "print(i,\"\\n\",i.ndim)"
   ]
  },
  {
   "cell_type": "markdown",
   "metadata": {},
   "source": [
    "## 2-D array"
   ]
  },
  {
   "cell_type": "code",
   "execution_count": 20,
   "metadata": {},
   "outputs": [
    {
     "name": "stdout",
     "output_type": "stream",
     "text": [
      "(2, 3) \n",
      " 2\n"
     ]
    }
   ],
   "source": [
    "l = np.array([[1,2,3],[4,5,6]])\n",
    "print(l.shape,\"\\n\",l.ndim)"
   ]
  },
  {
   "cell_type": "markdown",
   "metadata": {},
   "source": [
    "## 3-D array"
   ]
  },
  {
   "cell_type": "code",
   "execution_count": 34,
   "metadata": {},
   "outputs": [
    {
     "name": "stdout",
     "output_type": "stream",
     "text": [
      "\n",
      " 3 \n",
      " (3, 2, 2)\n"
     ]
    },
    {
     "data": {
      "text/plain": [
       "array([[[ 1,  2],\n",
       "        [ 5,  6]],\n",
       "\n",
       "       [[ 8,  9],\n",
       "        [11, 12]],\n",
       "\n",
       "       [[ 2,  3],\n",
       "        [ 5,  6]]])"
      ]
     },
     "execution_count": 34,
     "metadata": {},
     "output_type": "execute_result"
    }
   ],
   "source": [
    "l = np.array([ [ [1,2],[5,6] ],[ [8,9],[11,12] ],[ [2,3],[5,6] ] ])\n",
    "print(\"\\n\",l.ndim,\"\\n\",l.shape)\n",
    "l"
   ]
  },
  {
   "cell_type": "markdown",
   "metadata": {},
   "source": [
    "## linspace\n",
    "linear space\n",
    "Used to divide the data into equal space"
   ]
  },
  {
   "cell_type": "code",
   "execution_count": 68,
   "metadata": {},
   "outputs": [
    {
     "name": "stdout",
     "output_type": "stream",
     "text": [
      "[ 1.  4.  7. 10.]\n"
     ]
    }
   ],
   "source": [
    "l = np.linspace(1,10,4)\n",
    "print(l)"
   ]
  },
  {
   "cell_type": "markdown",
   "metadata": {},
   "source": [
    "### Random\n",
    "\n",
    "* np.random.randint(5)\n",
    "* np.random.rand(10)\n",
    "* np.random.randn(19)"
   ]
  },
  {
   "cell_type": "code",
   "execution_count": 65,
   "metadata": {},
   "outputs": [
    {
     "name": "stdout",
     "output_type": "stream",
     "text": [
      "randint()\n",
      "8\n",
      "randn\n",
      "[-0.06857263 -1.12375653 -0.04974367 -0.31303748  0.98018107]\n",
      "rand\n",
      "[[0.96888068 0.40009732 0.9241603  0.61474957]\n",
      " [0.59972874 0.24171075 0.98767394 0.38698235]\n",
      " [0.30494441 0.94512803 0.82577603 0.95865017]]\n"
     ]
    }
   ],
   "source": [
    "print(\"randint()\")\n",
    "print(np.random.randint(5,10))\n",
    "print(\"randn\")\n",
    "print(np.random.randn(5))\n",
    "print(\"rand\")\n",
    "print(np.random.rand(3,4))"
   ]
  },
  {
   "cell_type": "markdown",
   "metadata": {},
   "source": [
    "### eye\n",
    "\n",
    "Identity matrix\n",
    "[1 0 0]\n",
    "[0 1 0]\n",
    "[0 0 1]"
   ]
  },
  {
   "cell_type": "code",
   "execution_count": 69,
   "metadata": {},
   "outputs": [
    {
     "name": "stdout",
     "output_type": "stream",
     "text": [
      "[[1. 0. 0. 0.]\n",
      " [0. 1. 0. 0.]\n",
      " [0. 0. 1. 0.]\n",
      " [0. 0. 0. 1.]] \n",
      "\n",
      " [[1. 0. 0. 0. 0.]\n",
      " [0. 1. 0. 0. 0.]\n",
      " [0. 0. 1. 0. 0.]\n",
      " [0. 0. 0. 1. 0.]]\n"
     ]
    }
   ],
   "source": [
    "a = np.eye(4)\n",
    "b = np.eye(4,5)\n",
    "print(a,\"\\n\\n\",b)"
   ]
  },
  {
   "cell_type": "markdown",
   "metadata": {},
   "source": [
    "### Zeroes and Ones"
   ]
  },
  {
   "cell_type": "code",
   "execution_count": 78,
   "metadata": {},
   "outputs": [
    {
     "name": "stdout",
     "output_type": "stream",
     "text": [
      "Zeros\n",
      " [[[0. 0. 0. 0. 0. 0. 0. 0.]\n",
      "  [0. 0. 0. 0. 0. 0. 0. 0.]\n",
      "  [0. 0. 0. 0. 0. 0. 0. 0.]]\n",
      "\n",
      " [[0. 0. 0. 0. 0. 0. 0. 0.]\n",
      "  [0. 0. 0. 0. 0. 0. 0. 0.]\n",
      "  [0. 0. 0. 0. 0. 0. 0. 0.]]] \n",
      "Ones [[[1. 1. 1. 1. 1. 1. 1.]\n",
      "  [1. 1. 1. 1. 1. 1. 1.]\n",
      "  [1. 1. 1. 1. 1. 1. 1.]]\n",
      "\n",
      " [[1. 1. 1. 1. 1. 1. 1.]\n",
      "  [1. 1. 1. 1. 1. 1. 1.]\n",
      "  [1. 1. 1. 1. 1. 1. 1.]]]\n"
     ]
    }
   ],
   "source": [
    "a = np.zeros((2,3,8))\n",
    "b = np.ones((2,3,7))\n",
    "print(\"Zeros\\n\",a , \"\\nOnes\" , b)"
   ]
  },
  {
   "cell_type": "markdown",
   "metadata": {},
   "source": [
    "### diagonal \n",
    "diag"
   ]
  },
  {
   "cell_type": "code",
   "execution_count": 82,
   "metadata": {},
   "outputs": [
    {
     "name": "stdout",
     "output_type": "stream",
     "text": [
      "[3 5 6]\n",
      "[[1 0 0 0 0]\n",
      " [0 2 0 0 0]\n",
      " [0 0 3 0 0]\n",
      " [0 0 0 4 0]\n",
      " [0 0 0 0 5]]\n"
     ]
    }
   ],
   "source": [
    "print(np.diag(np.diag([3,5,6])))\n",
    "print(np.diag([1,2,3,4,5]))"
   ]
  },
  {
   "cell_type": "markdown",
   "metadata": {},
   "source": [
    "## Calculation using numpy arrays"
   ]
  },
  {
   "cell_type": "code",
   "execution_count": 114,
   "metadata": {},
   "outputs": [
    {
     "name": "stdout",
     "output_type": "stream",
     "text": [
      "Mean =  1053.375\n",
      "Median =  128.5\n",
      "sum =  8427\n",
      "sum =  8427\n",
      "min =  2\n",
      "max =  6456\n",
      "Standard deviation =  2072.7546850447593\n",
      "mean =  2.5\n",
      "median =  2.5\n",
      "sum =  10\n",
      "sum =  [5 5]\n",
      "Standard deviation =  1.118033988749895\n",
      "[[4 3]\n",
      " [1 2]]\n",
      "Sum with Axis column  [5 5]\n",
      "Sum with Axis Row  [7 3]\n",
      "mean with Axis column  [2.5 2.5]\n"
     ]
    },
    {
     "data": {
      "text/plain": [
       "array([[2, 4, 6],\n",
       "       [5, 7, 9]])"
      ]
     },
     "execution_count": 114,
     "metadata": {},
     "output_type": "execute_result"
    }
   ],
   "source": [
    "a = np.array([4,2,133,1121,523,64,124,6456])\n",
    "print(\"Mean = \",np.mean(a))\n",
    "print(\"Median = \",np.median(a))\n",
    "print(\"sum = \",np.sum(a))\n",
    "print(\"sum = \",sum(a))\n",
    "print(\"min = \",min(a))\n",
    "print(\"max = \",max(a))\n",
    "print(\"Standard deviation = \",np.std(a))\n",
    "b = np.array([[4,3],[1,2]])\n",
    "print(\"mean = \",np.mean(b))\n",
    "print(\"median = \",np.median(b))\n",
    "print(\"sum = \",np.sum(b))\n",
    "print(\"sum = \",sum(b))\n",
    "#print(min(b))\n",
    "#print(max(b))\n",
    "print(\"Standard deviation = \",np.std(b))\n",
    "print(b)\n",
    "print(\"Sum with Axis column \",np.sum(b,axis = 0))\n",
    "print(\"Sum with Axis Row \",np.sum(b,axis = 1))\n",
    "print(\"mean with Axis column \",np.mean(b,axis = 0))\n",
    "x = np.array([[1,2,3],[4,5,6]])\n",
    "y = np.array([[1,2,3],[1,2,3]])\n",
    "x+y"
   ]
  },
  {
   "cell_type": "code",
   "execution_count": null,
   "metadata": {},
   "outputs": [],
   "source": []
  }
 ],
 "metadata": {
  "kernelspec": {
   "display_name": "Python 3",
   "language": "python",
   "name": "python3"
  },
  "language_info": {
   "codemirror_mode": {
    "name": "ipython",
    "version": 3
   },
   "file_extension": ".py",
   "mimetype": "text/x-python",
   "name": "python",
   "nbconvert_exporter": "python",
   "pygments_lexer": "ipython3",
   "version": "3.7.3"
  }
 },
 "nbformat": 4,
 "nbformat_minor": 2
}
