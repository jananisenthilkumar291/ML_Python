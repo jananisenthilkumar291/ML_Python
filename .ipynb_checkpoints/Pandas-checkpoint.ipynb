{
 "cells": [
  {
   "cell_type": "markdown",
   "metadata": {},
   "source": [
    "# Pandas\n",
    "\n",
    "* It is a python library to read , write and Analyze data.\n",
    "* Used for Data anaysis and machine learning.\n",
    "* Can be represented as , \n",
    "    * Series\n",
    "        * 1-D array\n",
    "    * Data Frame\n",
    "        * 2-D array"
   ]
  },
  {
   "cell_type": "code",
   "execution_count": 17,
   "metadata": {},
   "outputs": [
    {
     "name": "stdout",
     "output_type": "stream",
     "text": [
      "0    14.0\n",
      "1    52.9\n",
      "2    63.0\n",
      "3    24.0\n",
      "4    87.0\n",
      "5    98.0\n",
      "6    45.0\n",
      "7    32.0\n",
      "dtype: float64\n",
      "0    [1, 2, 3]\n",
      "1    [4, 5, 6]\n",
      "2       string\n",
      "dtype: object\n",
      "<class 'pandas.core.series.Series'>\n",
      "2    63.0\n",
      "3    24.0\n",
      "4    87.0\n",
      "dtype: float64\n"
     ]
    }
   ],
   "source": [
    "import pandas as pd\n",
    "\n",
    "bhaagi = pd.Series([14,52.9,63,24,87,98,45,32])\n",
    "print(bhaagi)\n",
    "mounika = pd.Series([[1,2,3],[4,5,6],\"string\"])\n",
    "print(mounika)\n",
    "print(type(bhaagi))\n",
    "print(bhaagi[2:5])"
   ]
  },
  {
   "cell_type": "markdown",
   "metadata": {},
   "source": [
    "# Data frame"
   ]
  },
  {
   "cell_type": "code",
   "execution_count": 68,
   "metadata": {},
   "outputs": [
    {
     "name": "stdout",
     "output_type": "stream",
     "text": [
      "     0\n",
      "0   12\n",
      "1   32\n",
      "2   56\n",
      "3   85\n",
      "4   35\n",
      "5  864\n",
      "6  245 \n",
      "\n",
      "\n",
      "     0   1   2\n",
      "0    1   2   3\n",
      "1   11  22  33\n",
      "2  456   1   3 \n",
      "\n",
      "\n",
      "   one  Two  three\n",
      "0    1    2      2\n",
      "1    3    4      5 \n",
      "\n",
      "\n",
      "  name age\n",
      "0    a  23\n",
      "1    b  30\n",
      "2    c  40\n",
      "3    d  50\n",
      "<class 'pandas.core.series.Series'>\n",
      "<class 'pandas.core.frame.DataFrame'>\n"
     ]
    },
    {
     "data": {
      "text/html": [
       "<div>\n",
       "<style scoped>\n",
       "    .dataframe tbody tr th:only-of-type {\n",
       "        vertical-align: middle;\n",
       "    }\n",
       "\n",
       "    .dataframe tbody tr th {\n",
       "        vertical-align: top;\n",
       "    }\n",
       "\n",
       "    .dataframe thead th {\n",
       "        text-align: right;\n",
       "    }\n",
       "</style>\n",
       "<table border=\"1\" class=\"dataframe\">\n",
       "  <thead>\n",
       "    <tr style=\"text-align: right;\">\n",
       "      <th></th>\n",
       "      <th>name</th>\n",
       "      <th>age</th>\n",
       "    </tr>\n",
       "  </thead>\n",
       "  <tbody>\n",
       "    <tr>\n",
       "      <th>0</th>\n",
       "      <td>a</td>\n",
       "      <td>23</td>\n",
       "    </tr>\n",
       "    <tr>\n",
       "      <th>1</th>\n",
       "      <td>b</td>\n",
       "      <td>30</td>\n",
       "    </tr>\n",
       "    <tr>\n",
       "      <th>2</th>\n",
       "      <td>c</td>\n",
       "      <td>40</td>\n",
       "    </tr>\n",
       "    <tr>\n",
       "      <th>3</th>\n",
       "      <td>d</td>\n",
       "      <td>50</td>\n",
       "    </tr>\n",
       "  </tbody>\n",
       "</table>\n",
       "</div>"
      ],
      "text/plain": [
       "  name age\n",
       "0    a  23\n",
       "1    b  30\n",
       "2    c  40\n",
       "3    d  50"
      ]
     },
     "execution_count": 68,
     "metadata": {},
     "output_type": "execute_result"
    }
   ],
   "source": [
    "l = [12,32,56,85,35,864,245]\n",
    "print(pd.DataFrame(l),\"\\n\\n\")\n",
    "m = [[1,2,3],[11,22,33],[456,1,3]]\n",
    "print(pd.DataFrame(m),\"\\n\\n\")\n",
    "print(pd.DataFrame([[1,2,2],[3,4,5]] , columns = [\"one\",\"Two\",\"three\"]),\"\\n\\n\")\n",
    "d = {\"name\":['a','b','c','d'],\"age\":['23','30','40','50']}\n",
    "df = pd.DataFrame(d)\n",
    "print(df)\n",
    "\n",
    "## reading data from DataFrame\n",
    "\n",
    "print(type(df['name']))\n",
    "print(type(df[['name']]))\n",
    "type(df[['name','age']])\n",
    "df[:]"
   ]
  },
  {
   "cell_type": "markdown",
   "metadata": {},
   "source": [
    "## Reading Data using loc and iloc\n",
    "\n",
    "* loc  -- > location\n",
    "* iloc -- > index location"
   ]
  },
  {
   "cell_type": "code",
   "execution_count": 76,
   "metadata": {},
   "outputs": [
    {
     "data": {
      "text/html": [
       "<div>\n",
       "<style scoped>\n",
       "    .dataframe tbody tr th:only-of-type {\n",
       "        vertical-align: middle;\n",
       "    }\n",
       "\n",
       "    .dataframe tbody tr th {\n",
       "        vertical-align: top;\n",
       "    }\n",
       "\n",
       "    .dataframe thead th {\n",
       "        text-align: right;\n",
       "    }\n",
       "</style>\n",
       "<table border=\"1\" class=\"dataframe\">\n",
       "  <thead>\n",
       "    <tr style=\"text-align: right;\">\n",
       "      <th></th>\n",
       "      <th>name</th>\n",
       "    </tr>\n",
       "  </thead>\n",
       "  <tbody>\n",
       "    <tr>\n",
       "      <th>0</th>\n",
       "      <td>a</td>\n",
       "    </tr>\n",
       "    <tr>\n",
       "      <th>1</th>\n",
       "      <td>b</td>\n",
       "    </tr>\n",
       "    <tr>\n",
       "      <th>2</th>\n",
       "      <td>c</td>\n",
       "    </tr>\n",
       "    <tr>\n",
       "      <th>3</th>\n",
       "      <td>d</td>\n",
       "    </tr>\n",
       "  </tbody>\n",
       "</table>\n",
       "</div>"
      ],
      "text/plain": [
       "  name\n",
       "0    a\n",
       "1    b\n",
       "2    c\n",
       "3    d"
      ]
     },
     "execution_count": 76,
     "metadata": {},
     "output_type": "execute_result"
    }
   ],
   "source": [
    "df\n",
    "#df.loc[0:2,\"age\":]\n",
    "#df.set_index(\"name\",inplace=True)\n",
    "df.iloc[1:]\n",
    "#axis = 1 -->column\n",
    "df.drop('age',axis = 1)\n",
    "df['age'] = ['10','20','30','40']"
   ]
  },
  {
   "cell_type": "code",
   "execution_count": null,
   "metadata": {},
   "outputs": [],
   "source": []
  },
  {
   "cell_type": "code",
   "execution_count": null,
   "metadata": {},
   "outputs": [],
   "source": []
  },
  {
   "cell_type": "code",
   "execution_count": null,
   "metadata": {},
   "outputs": [],
   "source": []
  }
 ],
 "metadata": {
  "kernelspec": {
   "display_name": "Python 3",
   "language": "python",
   "name": "python3"
  },
  "language_info": {
   "codemirror_mode": {
    "name": "ipython",
    "version": 3
   },
   "file_extension": ".py",
   "mimetype": "text/x-python",
   "name": "python",
   "nbconvert_exporter": "python",
   "pygments_lexer": "ipython3",
   "version": "3.7.3"
  }
 },
 "nbformat": 4,
 "nbformat_minor": 2
}
