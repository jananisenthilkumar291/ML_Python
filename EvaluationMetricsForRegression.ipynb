{
 "cells": [
  {
   "cell_type": "code",
   "execution_count": 31,
   "metadata": {},
   "outputs": [
    {
     "name": "stdout",
     "output_type": "stream",
     "text": [
      "74.06426641094095\n",
      "74.34997532004697\n"
     ]
    }
   ],
   "source": [
    "import numpy as np\n",
    "import pandas as pd\n",
    "from sklearn.datasets import load_boston\n",
    "from sklearn.linear_model import LinearRegression\n",
    "from sklearn.model_selection import train_test_split\n",
    "\n",
    "\n",
    "lr = LinearRegression()\n",
    "boston = load_boston()\n",
    "boston_df = pd.DataFrame(boston.data,columns = boston.feature_names)\n",
    "boston_df['Target'] = boston.target\n",
    "boston_df.sample(4)\n",
    "\n",
    "boston_x = boston_df.drop('Target',axis = 1)\n",
    "boston_y = boston_df['Target']\n",
    "\n",
    "lr.fit(boston_x,boston_y)\n",
    "print(lr.score(boston_x,boston_y)*100)\n",
    "\n",
    "x_train,x_test,y_train,y_test = train_test_split(x,y,test_size=0.3,random_state = 42)\n",
    "lr_2 = LinearRegression()\n",
    "lr_2.fit(x_train,y_train)\n",
    "print(lr_2.score(x_train,y_train)*100)"
   ]
  },
  {
   "cell_type": "code",
   "execution_count": 56,
   "metadata": {},
   "outputs": [
    {
     "data": {
      "text/html": [
       "<div>\n",
       "<style scoped>\n",
       "    .dataframe tbody tr th:only-of-type {\n",
       "        vertical-align: middle;\n",
       "    }\n",
       "\n",
       "    .dataframe tbody tr th {\n",
       "        vertical-align: top;\n",
       "    }\n",
       "\n",
       "    .dataframe thead th {\n",
       "        text-align: right;\n",
       "    }\n",
       "</style>\n",
       "<table border=\"1\" class=\"dataframe\">\n",
       "  <thead>\n",
       "    <tr style=\"text-align: right;\">\n",
       "      <th></th>\n",
       "      <th>Actual</th>\n",
       "      <th>Predicted</th>\n",
       "      <th>Error</th>\n",
       "    </tr>\n",
       "  </thead>\n",
       "  <tbody>\n",
       "    <tr>\n",
       "      <th>176</th>\n",
       "      <td>23.2</td>\n",
       "      <td>25.572974</td>\n",
       "      <td>-2.372974</td>\n",
       "    </tr>\n",
       "    <tr>\n",
       "      <th>33</th>\n",
       "      <td>13.1</td>\n",
       "      <td>13.805940</td>\n",
       "      <td>-0.705940</td>\n",
       "    </tr>\n",
       "    <tr>\n",
       "      <th>73</th>\n",
       "      <td>23.4</td>\n",
       "      <td>24.869755</td>\n",
       "      <td>-1.469755</td>\n",
       "    </tr>\n",
       "  </tbody>\n",
       "</table>\n",
       "</div>"
      ],
      "text/plain": [
       "     Actual  Predicted     Error\n",
       "176    23.2  25.572974 -2.372974\n",
       "33     13.1  13.805940 -0.705940\n",
       "73     23.4  24.869755 -1.469755"
      ]
     },
     "execution_count": 56,
     "metadata": {},
     "output_type": "execute_result"
    }
   ],
   "source": [
    "y_test_prediction = lr_2.predict(x_test)\n",
    "act_vs_pred = pd.DataFrame({'Actual':y_test,'Predicted' : y_test_prediction})\n",
    "act_vs_pred['Error'] = act_vs_pred['Actual']-act_vs_pred['Predicted']\n",
    "act_vs_pred.sample(3)"
   ]
  },
  {
   "cell_type": "code",
   "execution_count": 51,
   "metadata": {},
   "outputs": [
    {
     "name": "stdout",
     "output_type": "stream",
     "text": [
      "Mean Squared Error =  21.517444231177432\n",
      "Mean Squared Error =  3.1627098714574253\n",
      "Root Mean Squared Error =  4.6386899261728445\n"
     ]
    }
   ],
   "source": [
    "from sklearn.metrics import mean_squared_error,mean_absolute_error\n",
    "\n",
    "mse = mean_squared_error(y_test,y_test_prediction)\n",
    "mae = mean_absolute_error(y_test,y_test_prediction)\n",
    "rms = np.sqrt(mse)\n",
    "print(\"Mean Squared Error = \",mse)\n",
    "print(\"Mean Squared Error = \",mae)\n",
    "print(\"Root Mean Squared Error = \",rms)"
   ]
  },
  {
   "cell_type": "markdown",
   "metadata": {},
   "source": [
    "### Cross Validation"
   ]
  },
  {
   "cell_type": "code",
   "execution_count": 66,
   "metadata": {},
   "outputs": [
    {
     "name": "stdout",
     "output_type": "stream",
     "text": [
      "[0.80720702 0.74434466 0.60318261 0.62349534 0.61324682]\n"
     ]
    }
   ],
   "source": [
    "from sklearn.model_selection import cross_val_score,KFold\n",
    "\n",
    "kfold = KFold(n_splits = 5,shuffle = True)\n",
    "cv_score = cross_val_score(lr_2,boston_x,boston_y,cv  = kfold)\n",
    "print(cv_score)"
   ]
  },
  {
   "cell_type": "code",
   "execution_count": null,
   "metadata": {},
   "outputs": [],
   "source": []
  }
 ],
 "metadata": {
  "kernelspec": {
   "display_name": "Python 3",
   "language": "python",
   "name": "python3"
  },
  "language_info": {
   "codemirror_mode": {
    "name": "ipython",
    "version": 3
   },
   "file_extension": ".py",
   "mimetype": "text/x-python",
   "name": "python",
   "nbconvert_exporter": "python",
   "pygments_lexer": "ipython3",
   "version": "3.7.3"
  }
 },
 "nbformat": 4,
 "nbformat_minor": 2
}
